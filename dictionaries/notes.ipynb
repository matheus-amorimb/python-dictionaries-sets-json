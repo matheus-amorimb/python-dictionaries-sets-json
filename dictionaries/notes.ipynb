{
 "cells": [
  {
   "cell_type": "markdown",
   "metadata": {},
   "source": [
    "# Creating Dictionaries"
   ]
  },
  {
   "cell_type": "code",
   "execution_count": 6,
   "metadata": {},
   "outputs": [
    {
     "data": {
      "text/plain": [
       "{'john': ['John', 'Clees', 78],\n",
       " (0, 0): 'origin',\n",
       " 'repr': <function __main__.<lambda>(x)>,\n",
       " 'eric': {'name': 'Matheus', 'age': 25}}"
      ]
     },
     "execution_count": 6,
     "metadata": {},
     "output_type": "execute_result"
    }
   ],
   "source": [
    "#Literals\n",
    "\n",
    "{\n",
    "    'john': ['John', 'Clees', 78],\n",
    "    (0, 0): 'origin',\n",
    "    'repr': lambda x: x **2,\n",
    "    'eric': {'name': 'Matheus',\n",
    "             'age': 25}\n",
    "}"
   ]
  },
  {
   "cell_type": "code",
   "execution_count": 10,
   "metadata": {},
   "outputs": [
    {
     "data": {
      "text/plain": [
       "{'john': ['John', 'Clees', 78],\n",
       " 'repr': <function __main__.<lambda>(x)>,\n",
       " 'eric': {'name': 'Matheus', 'age': 25},\n",
       " 'twin': {'name': 'Matheus', 'age': 25}}"
      ]
     },
     "execution_count": 10,
     "metadata": {},
     "output_type": "execute_result"
    }
   ],
   "source": [
    "#Constructor\n",
    "\n",
    "#key must be a valid identifier name, in this case dictionary key will then be a string og that name\n",
    "dict(\n",
    "    john = ['John', 'Clees', 78],\n",
    "    repr = lambda x: x **2,\n",
    "    eric = {'name': 'Matheus',\n",
    "            'age': 25},\n",
    "    twin = dict(name = 'Matheus', age = 25)\n",
    ")\n"
   ]
  },
  {
   "cell_type": "code",
   "execution_count": 12,
   "metadata": {},
   "outputs": [
    {
     "data": {
      "text/plain": [
       "{'key_1': 1, 'key_2': 4, 'key_3': 9, 'key_4': 16}"
      ]
     },
     "execution_count": 12,
     "metadata": {},
     "output_type": "execute_result"
    }
   ],
   "source": [
    "#Comprehensions\n",
    "\n",
    "{f'key_{str(i)}': i**2 for i in range(1, 5)}"
   ]
  },
  {
   "cell_type": "code",
   "execution_count": 15,
   "metadata": {},
   "outputs": [
    {
     "name": "stdout",
     "output_type": "stream",
     "text": [
      "{'key_1': 1, 'key_2': 4, 'key_3': 9, 'key_4': 16}\n"
     ]
    }
   ],
   "source": [
    "#Not pythonic way\n",
    "d = {}\n",
    "for i in range(1, 5):\n",
    "    key = f'key_{i}'\n",
    "    d[key] = i**2\n",
    "\n",
    "print(d)"
   ]
  },
  {
   "cell_type": "code",
   "execution_count": 16,
   "metadata": {},
   "outputs": [
    {
     "name": "stdout",
     "output_type": "stream",
     "text": [
      "{1: False, 4: False, 9: False, 16: False}\n"
     ]
    }
   ],
   "source": [
    "#fromkeys()\n",
    "##creates a dictinary with specified keys all assigned the same value\n",
    "##iterable contains the keys, hashable elements\n",
    "\n",
    "d = dict.fromkeys([i**2 for i in range(1, 5)], False)\n",
    "print(d)"
   ]
  },
  {
   "cell_type": "markdown",
   "metadata": {},
   "source": [
    "# Commom Operations"
   ]
  },
  {
   "cell_type": "markdown",
   "metadata": {},
   "source": [
    "# Dictionary Views"
   ]
  },
  {
   "cell_type": "markdown",
   "metadata": {},
   "source": [
    "# Updating, Merging and Copying"
   ]
  },
  {
   "cell_type": "markdown",
   "metadata": {},
   "source": [
    "# Custom Classes and Hashing"
   ]
  }
 ],
 "metadata": {
  "kernelspec": {
   "display_name": "Python 3",
   "language": "python",
   "name": "python3"
  },
  "language_info": {
   "codemirror_mode": {
    "name": "ipython",
    "version": 3
   },
   "file_extension": ".py",
   "mimetype": "text/x-python",
   "name": "python",
   "nbconvert_exporter": "python",
   "pygments_lexer": "ipython3",
   "version": "3.10.12"
  }
 },
 "nbformat": 4,
 "nbformat_minor": 2
}
